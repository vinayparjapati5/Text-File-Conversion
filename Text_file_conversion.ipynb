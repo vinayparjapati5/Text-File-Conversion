{
  "nbformat": 4,
  "nbformat_minor": 0,
  "metadata": {
    "colab": {
      "provenance": [],
      "authorship_tag": "ABX9TyOq28RKmj9R3+nBNxJsdTYo",
      "include_colab_link": true
    },
    "kernelspec": {
      "name": "python3",
      "display_name": "Python 3"
    },
    "language_info": {
      "name": "python"
    }
  },
  "cells": [
    {
      "cell_type": "markdown",
      "metadata": {
        "id": "view-in-github",
        "colab_type": "text"
      },
      "source": [
        "<a href=\"https://colab.research.google.com/github/vinayparjapati5/Text-File-Conversion/blob/main/Text_file_conversion.ipynb\" target=\"_parent\"><img src=\"https://colab.research.google.com/assets/colab-badge.svg\" alt=\"Open In Colab\"/></a>"
      ]
    },
    {
      "cell_type": "markdown",
      "source": [
        "---\n",
        "## Compare the performance (time taken) of C, C++, Java, R, and Python programs for : Convert 200MB, 400 MB, 600 MB, 800 MB, and 1000MB text files to upper case.\n",
        "---"
      ],
      "metadata": {
        "id": "ROpdwKK5iFwl"
      }
    },
    {
      "cell_type": "markdown",
      "source": [
        "---\n",
        "### Importing Libraries\n",
        "\n",
        "---"
      ],
      "metadata": {
        "id": "_ouaFjS0o-tz"
      }
    },
    {
      "cell_type": "code",
      "source": [
        "import time as t\n",
        "import matplotlib.pyplot as plt"
      ],
      "metadata": {
        "id": "e4325fEgiGqa"
      },
      "execution_count": 10,
      "outputs": []
    },
    {
      "cell_type": "markdown",
      "source": [
        "---\n",
        "### Defining  Text File Sizes in MB\n",
        "---"
      ],
      "metadata": {
        "id": "OLtFAaX1iVVb"
      }
    },
    {
      "cell_type": "code",
      "source": [
        "file_sizes = [200,400,600,800,1000] #text file sizes in MB"
      ],
      "metadata": {
        "id": "2kSng1oPzhHL"
      },
      "execution_count": 11,
      "outputs": []
    },
    {
      "cell_type": "markdown",
      "source": [
        "---\n",
        "### Creating Function which convert text files to uppercase\n",
        "---"
      ],
      "metadata": {
        "id": "cytG7BYYilNs"
      }
    },
    {
      "cell_type": "code",
      "source": [
        "def convert_to_uppercase(file_path):\n",
        "  fp= open(file_path,'r')\n",
        "  content = fp.read().upper()\n",
        "  fp.close\n",
        "\n",
        "  fp = open(file_path,'w')\n",
        "  fp.write(content)\n",
        "  fp.close"
      ],
      "metadata": {
        "id": "W45PhkYsiyft"
      },
      "execution_count": 12,
      "outputs": []
    },
    {
      "cell_type": "markdown",
      "source": [
        "---\n",
        "### Creating Function which measures Execution Time\n",
        "---"
      ],
      "metadata": {
        "id": "XZniq1yYi2jJ"
      }
    },
    {
      "cell_type": "code",
      "source": [
        "def cal_execution_time(file_size):\n",
        "  file_path=f\"input_{file_size}MB.txt\"\n",
        "  fp = open(file_path,'w')\n",
        "  content =\"a\"*(file_size * 1024 *1024) #generate content of file size in MB\n",
        "  fp.write(content)\n",
        "  fp.close\n",
        "\n",
        "  start_time = t.time()\n",
        "  convert_to_uppercase(file_path)\n",
        "  end_time = t.time()\n",
        "  execution_time = end_time - start_time\n",
        "\n",
        "  return execution_time"
      ],
      "metadata": {
        "id": "TMc3-J1ZjCKT"
      },
      "execution_count": 13,
      "outputs": []
    },
    {
      "cell_type": "markdown",
      "source": [
        "---\n",
        "### Measure Execution Time for Each File Size\n",
        "---"
      ],
      "metadata": {
        "id": "2mGWFvO_jLpE"
      }
    },
    {
      "cell_type": "code",
      "source": [
        "Languages = [\"C\",\"C++\",\"Java\",\"R\",\"Python\"]\n",
        "print(\"File Size\\t|\\t\" + \"\\t\".join(Languages))\n",
        "print(\"-------------------------------------------\")\n",
        "\n",
        "for size in file_sizes:\n",
        "  execution_times = []\n",
        "  for lang in Languages:\n",
        "    execution_time = cal_execution_time(size)\n",
        "    execution_times.append(execution_time)\n",
        "\n",
        "  execution_times_str = \"\\t\\t\".join([str(time) for time in execution_times])\n",
        "  print(f\"{size}MB\\t|\\t{execution_times_str}\")\n"
      ],
      "metadata": {
        "colab": {
          "base_uri": "https://localhost:8080/"
        },
        "id": "oxfY_6cnjVIb",
        "outputId": "0253fec9-e3de-4c8b-d0dd-3341d0ecc44d"
      },
      "execution_count": 15,
      "outputs": [
        {
          "output_type": "stream",
          "name": "stdout",
          "text": [
            "File Size\t|\tC\tC++\tJava\tR\tPython\n",
            "-------------------------------------------\n",
            "200MB\t|\t1.2255358695983887\t\t3.702962636947632\t\t1.7683804035186768\t\t1.4748964309692383\t\t1.405604362487793\n",
            "400MB\t|\t6.5064990520477295\t\t3.1513681411743164\t\t2.9302642345428467\t\t3.8775475025177\t\t3.0576107501983643\n",
            "600MB\t|\t12.692585945129395\t\t22.32572078704834\t\t4.390197515487671\t\t4.67992091178894\t\t4.370304822921753\n",
            "800MB\t|\t6.6978819370269775\t\t18.66490125656128\t\t6.692925691604614\t\t6.512986660003662\t\t19.07563281059265\n",
            "1000MB\t|\t19.2411687374115\t\t13.936688661575317\t\t8.979885816574097\t\t12.825477361679077\t\t12.339518308639526\n"
          ]
        }
      ]
    }
  ]
}